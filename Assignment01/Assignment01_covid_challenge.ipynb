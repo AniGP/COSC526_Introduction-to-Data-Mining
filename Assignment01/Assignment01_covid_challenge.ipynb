{
 "cells": [
  {
   "cell_type": "markdown",
   "id": "5f09fcd7",
   "metadata": {},
   "source": [
    "## Assignment 1: Assess your Python Programming Skills\n",
    "\n",
    "This simple set of assignments will help you to assess your Python programming skills. Try to solve the individual problems without searching for a solution online but basing your coding exclusively on your skills. Please keep in mind that the assignment during this course may be more challenging than this one.\n",
    "\n",
    "\n",
    "## Dataset Information\n",
    "\n",
    "The dataset for this problem comes from [this Kaggle page](https://www.kaggle.com/yamqwe/omicron-covid19-variant-daily-cases?select=covid-variants.csv). A copy of the file is also in the same directory as this Jupyter notebook.\n",
    "\n",
    "This dataset contains data about the processing of COVID-19 sequences by different countries over time. It comes as a Comma-Separated Value (CSV) file. This file contains the following 6 columns:\n",
    "\n",
    "1. `location`: the country for which the information is provided\n",
    "2. `date`: the date of the data entry\n",
    "3. `variant`: the COVID-19 variant for the data entry\n",
    "4. `num_sequences`: the number of sequences **processed** (for the country, variant, and date)\n",
    "5. `num_sequences_total`: the number of sequences **available** (for the country, variant, and date)\n",
    "6. `perc_sequences`: the percentage of available number of sequences that were processed (*Note: this value is out of 100*)\n",
    "\n",
    "Each row in the dataset represents the processing of *one* variant by *one* country on *one* day."
   ]
  },
  {
   "cell_type": "code",
   "execution_count": 1,
   "id": "c0ba54e2",
   "metadata": {},
   "outputs": [],
   "source": [
    "## Import any package you may need here below "
   ]
  },
  {
   "cell_type": "code",
   "execution_count": 2,
   "id": "f30c8202",
   "metadata": {},
   "outputs": [],
   "source": [
    "## Add here anything else you may need"
   ]
  },
  {
   "cell_type": "markdown",
   "id": "760c5a8f",
   "metadata": {},
   "source": [
    "## 1. Find Uncommon Variants\n",
    "\n",
    "The 3 main variants of COVID-19 that we've experienced in the US are:\n",
    "\n",
    "1. Alpha\n",
    "2. Delta\n",
    "3. Omicron\n",
    "\n",
    "However, there are many other variants recognized by the WHO. \n",
    "\n",
    "Determine which other variants are included in this dataset.\n",
    "\n",
    "Sort the variant names alphanumerically and store them in a Python list.\n",
    "\n",
    "*Note: the \"variants\" column of the dataset contains 2 \"catch-all\" categories called \"**non_who**\" and \"**others**\". Do **NOT** include these categories in the list."
   ]
  },
  {
   "cell_type": "code",
   "execution_count": 3,
   "id": "c4f869b7",
   "metadata": {},
   "outputs": [],
   "source": [
    "## Write here your code\n"
   ]
  },
  {
   "cell_type": "markdown",
   "id": "5cbdeb65",
   "metadata": {},
   "source": [
    "## 2. Find the Most Processed Variant\n",
    "\n",
    "Determine which variant of COVID-19 has the most sequences processed.\n"
   ]
  },
  {
   "cell_type": "code",
   "execution_count": 4,
   "id": "e9efb902",
   "metadata": {},
   "outputs": [],
   "source": [
    "## Write here your code\n"
   ]
  },
  {
   "cell_type": "markdown",
   "id": "663db8ac",
   "metadata": {},
   "source": [
    "## 3. Find Best Country at Processing All Sequences\n",
    "\n",
    "Determine which country did the best at processing sequences across **all** variants (including \"catch all\" categories).\n",
    "\n",
    "The output should be the name of a single country.\n"
   ]
  },
  {
   "cell_type": "code",
   "execution_count": 5,
   "id": "75c31b41",
   "metadata": {},
   "outputs": [],
   "source": [
    "## Write here your code\n"
   ]
  },
  {
   "cell_type": "markdown",
   "id": "11d1d3a0",
   "metadata": {},
   "source": [
    "## 4a. Find Best Country at Processing Specific Sequences\n",
    "\n",
    "Determine which country did the best at processing sequences across the Alpha, Delta, and Omicron variants.\n",
    "\n",
    "The output should be the name of a single country.\n"
   ]
  },
  {
   "cell_type": "code",
   "execution_count": null,
   "id": "fcafdd2e",
   "metadata": {},
   "outputs": [],
   "source": [
    "## Write here your code\n"
   ]
  },
  {
   "cell_type": "markdown",
   "id": "9ccb8782",
   "metadata": {},
   "source": [
    "## 4b. Find the Ranking of the US at Processing Specific Sequences\n",
    "\n",
    "Determine the ranking of the US at processing sequences across the Alpha, Delta, and Omicron variants.\n",
    "\n",
    "Store the ranking as an integer.\n",
    "\n",
    "*Note: the best country has a ranking of 1, but indexing in Python starts at 0.*\n",
    "\n",
    "*Note: in Jupyter, variables from already executed code cells are available in other code cells. This means you shouldn't have to copy and paste code from problem 4a.*"
   ]
  },
  {
   "cell_type": "code",
   "execution_count": 6,
   "id": "038e81b5",
   "metadata": {},
   "outputs": [],
   "source": [
    "## Write here your code\n"
   ]
  },
  {
   "cell_type": "markdown",
   "id": "283e46d3",
   "metadata": {},
   "source": [
    "## 5. Find the Number of Processed Sequences Per Country on Date\n",
    "\n",
    "Determine each country's total number of processed sequences for the Omicron variant on December 27, 2021.\n",
    "\n",
    "Sort the output from the highest number of processed sequences to the smallest number of processed sequences.\n",
    "\n",
    "Store the result as a list of tuples, with each tuple containing the country name first and the number of processed sequences second.\n"
   ]
  },
  {
   "cell_type": "code",
   "execution_count": 7,
   "id": "6cf6efa9",
   "metadata": {},
   "outputs": [],
   "source": [
    "## Write here your code\n"
   ]
  },
  {
   "cell_type": "markdown",
   "id": "c2e3afa3",
   "metadata": {},
   "source": [
    "## 6. Find Percentage of Sequences Processed in the US\n",
    "\n",
    "Determine the percentage of processed sequences for the Alpha, Delta, and Omicron variants in the US.\n",
    "\n",
    "Store the result as a dictionary where keys are variant names and values are percentages.\n"
   ]
  },
  {
   "cell_type": "code",
   "execution_count": 8,
   "id": "53126a9c",
   "metadata": {},
   "outputs": [],
   "source": [
    "## Write here your code\n"
   ]
  },
  {
   "cell_type": "markdown",
   "id": "07cc884c",
   "metadata": {},
   "source": [
    "Report below the challenges you faced in solving this assignment:"
   ]
  },
  {
   "cell_type": "markdown",
   "id": "6a1d808d",
   "metadata": {},
   "source": [
    "Write here your answer"
   ]
  },
  {
   "cell_type": "code",
   "execution_count": null,
   "id": "7b3be80e",
   "metadata": {},
   "outputs": [],
   "source": []
  }
 ],
 "metadata": {
  "kernelspec": {
   "display_name": "Python 3",
   "language": "python",
   "name": "python3"
  },
  "language_info": {
   "codemirror_mode": {
    "name": "ipython",
    "version": 3
   },
   "file_extension": ".py",
   "mimetype": "text/x-python",
   "name": "python",
   "nbconvert_exporter": "python",
   "pygments_lexer": "ipython3",
   "version": "3.8.13"
  }
 },
 "nbformat": 4,
 "nbformat_minor": 5
}
